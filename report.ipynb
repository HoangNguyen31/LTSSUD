{
  "cells": [
    {
      "cell_type": "markdown",
      "source": [
        "# **ĐỀ TÀI: RANDOM FOREST**\n",
        "**Nhóm 11:**\n",
        "1. 19120606 - NGUYỄN ĐÌNH HOÀNG NGUYÊN\n",
        "2. 19120683 - THÁI TRUNG TÍN"
      ],
      "metadata": {
        "id": "yyHXJlrL-Otv"
      },
      "id": "yyHXJlrL-Otv"
    },
    {
      "cell_type": "markdown",
      "source": [
        "# Import thư viện"
      ],
      "metadata": {
        "id": "VbXc6fqu-dD2"
      },
      "id": "VbXc6fqu-dD2"
    },
    {
      "cell_type": "code",
      "execution_count": 1,
      "id": "0dbc5d32",
      "metadata": {
        "id": "0dbc5d32"
      },
      "outputs": [],
      "source": [
        "import pandas as pd\n",
        "import numpy as np\n",
        "import time\n",
        "import math\n",
        "from numba import cuda\n",
        "\n",
        "import warnings \n",
        "warnings.filterwarnings('ignore')\n",
        "\n",
        "from sklearn.datasets import load_digits\n",
        "from sklearn.model_selection import train_test_split\n",
        "from sklearn.metrics import accuracy_score\n",
        "\n",
        "from RandomForest_Sequential import DecisionTreeSequential, RandomForestSequential\n",
        "from RandomForest_Parallel import DecisionTreeParallel, RandomForestParallel"
      ]
    },
    {
      "cell_type": "markdown",
      "source": [
        "# Đọc dữ liệu"
      ],
      "metadata": {
        "id": "Y5hMjG8L-lOh"
      },
      "id": "Y5hMjG8L-lOh"
    },
    {
      "cell_type": "code",
      "source": [
        "df = pd.read_csv(\"train.csv\")\n",
        "\n",
        "X = df.iloc[:, 1:].values\n",
        "y = df.iloc[:, 0].values\n",
        "\n",
        "X_train, X_test, y_train, y_test = train_test_split(X, y, train_size=4000, test_size=1000, stratify=df.iloc[:, 0])"
      ],
      "metadata": {
        "id": "7lGkrbK2oXh4"
      },
      "id": "7lGkrbK2oXh4",
      "execution_count": 2,
      "outputs": []
    },
    {
      "cell_type": "markdown",
      "source": [
        "# Thí nghiệm"
      ],
      "metadata": {
        "id": "MVkSLgmQ-ohS"
      },
      "id": "MVkSLgmQ-ohS"
    },
    {
      "cell_type": "code",
      "source": [
        "z = np.random.randint(0, 10, 42000)\n",
        "clfs = DecisionTreeSequential()\n",
        "clfp = DecisionTreeParallel()"
      ],
      "metadata": {
        "id": "HVceNqTL_lD2"
      },
      "id": "HVceNqTL_lD2",
      "execution_count": 3,
      "outputs": []
    },
    {
      "cell_type": "code",
      "source": [
        "start = time.time()\n",
        "en_s = clfs.entropy(z)\n",
        "end = time.time()\n",
        "print(f'Processing time: {end - start} s')"
      ],
      "metadata": {
        "colab": {
          "base_uri": "https://localhost:8080/"
        },
        "id": "-JPJ2O2f_1ay",
        "outputId": "0db9aca7-24a7-4ea3-8eb5-67be84597db4"
      },
      "id": "-JPJ2O2f_1ay",
      "execution_count": 4,
      "outputs": [
        {
          "output_type": "stream",
          "name": "stdout",
          "text": [
            "Processing time: 0.01130366325378418 s\n"
          ]
        }
      ]
    },
    {
      "cell_type": "code",
      "source": [
        "start = time.time()\n",
        "en_p = clfp.entropy(z)\n",
        "end = time.time()\n",
        "print(f'Processing time: {end - start} s')"
      ],
      "metadata": {
        "colab": {
          "base_uri": "https://localhost:8080/"
        },
        "id": "s95AvXLwAUFV",
        "outputId": "d4f5ef7d-a996-404a-eca2-b9e483336c4e"
      },
      "id": "s95AvXLwAUFV",
      "execution_count": 6,
      "outputs": [
        {
          "output_type": "stream",
          "name": "stdout",
          "text": [
            "Processing time: 0.006819725036621094 s\n"
          ]
        }
      ]
    },
    {
      "cell_type": "code",
      "source": [
        "np.sum(en_s - en_p)"
      ],
      "metadata": {
        "colab": {
          "base_uri": "https://localhost:8080/"
        },
        "id": "X84uioZKAXuh",
        "outputId": "d3484c3f-ec9c-4f01-9a68-86d8b8ee3043"
      },
      "id": "X84uioZKAXuh",
      "execution_count": 7,
      "outputs": [
        {
          "output_type": "execute_result",
          "data": {
            "text/plain": [
              "0.0"
            ]
          },
          "metadata": {},
          "execution_count": 7
        }
      ]
    },
    {
      "cell_type": "code",
      "source": [
        "start = time.time()\n",
        "l_s, r_s = clfs.split(z, 5)\n",
        "end = time.time()\n",
        "print(f'Processing time: {end - start} s')"
      ],
      "metadata": {
        "colab": {
          "base_uri": "https://localhost:8080/"
        },
        "id": "QpBn6lfSAdOX",
        "outputId": "cde3d10c-0d79-4fb0-e665-bfb54e90c5c4"
      },
      "id": "QpBn6lfSAdOX",
      "execution_count": 8,
      "outputs": [
        {
          "output_type": "stream",
          "name": "stdout",
          "text": [
            "Processing time: 0.43410754203796387 s\n"
          ]
        }
      ]
    },
    {
      "cell_type": "code",
      "source": [
        "start = time.time()\n",
        "l_p, r_p = clfp.split(z, 5)\n",
        "end = time.time()\n",
        "print(f'Processing time: {end - start} s')"
      ],
      "metadata": {
        "colab": {
          "base_uri": "https://localhost:8080/"
        },
        "id": "GkB67LAYAj4O",
        "outputId": "fcfefe5e-5f0e-457d-eeda-c50c44b2d9b4"
      },
      "id": "GkB67LAYAj4O",
      "execution_count": 10,
      "outputs": [
        {
          "output_type": "stream",
          "name": "stdout",
          "text": [
            "Processing time: 0.003244638442993164 s\n"
          ]
        }
      ]
    },
    {
      "cell_type": "code",
      "source": [
        "np.sum(np.array(l_s) - np.array(l_p)), np.sum(np.array(r_s) - np.array(r_p))"
      ],
      "metadata": {
        "colab": {
          "base_uri": "https://localhost:8080/"
        },
        "id": "QFlgQ6zKbssW",
        "outputId": "0bef8fef-9d8d-4b61-d00e-8e28d6464534"
      },
      "id": "QFlgQ6zKbssW",
      "execution_count": 11,
      "outputs": [
        {
          "output_type": "execute_result",
          "data": {
            "text/plain": [
              "(0, 0)"
            ]
          },
          "metadata": {},
          "execution_count": 11
        }
      ]
    },
    {
      "cell_type": "markdown",
      "source": [
        "# Thực thi thuật toán"
      ],
      "metadata": {
        "id": "a5tbh002-rMl"
      },
      "id": "a5tbh002-rMl"
    },
    {
      "cell_type": "markdown",
      "source": [
        "## Chạy tuần tự"
      ],
      "metadata": {
        "id": "BtQ10umX-zPO"
      },
      "id": "BtQ10umX-zPO"
    },
    {
      "cell_type": "code",
      "execution_count": 12,
      "id": "3860836e",
      "metadata": {
        "id": "3860836e",
        "colab": {
          "base_uri": "https://localhost:8080/"
        },
        "outputId": "c9e4a3e2-a9cf-4195-b2c1-302a362a764f"
      },
      "outputs": [
        {
          "output_type": "stream",
          "name": "stdout",
          "text": [
            "Processing time: 5374.545193195343 s\n",
            "Accuracy score: 0.863\n"
          ]
        }
      ],
      "source": [
        "start = time.time()\n",
        "\n",
        "clf = RandomForestSequential()\n",
        "clf.fit(X_train, y_train)\n",
        "\n",
        "end = time.time()\n",
        "\n",
        "print(f'Processing time: {end - start} s')\n",
        "\n",
        "y_pred = clf.predict(X_test)\n",
        "acc_score = accuracy_score(y_test, y_pred)\n",
        "print(\"Accuracy score:\", acc_score)"
      ]
    },
    {
      "cell_type": "markdown",
      "source": [
        "## Chạy song song phiên bản 1"
      ],
      "metadata": {
        "id": "-ed-TdRT-1xl"
      },
      "id": "-ed-TdRT-1xl"
    },
    {
      "cell_type": "code",
      "source": [
        "start = time.time()\n",
        "\n",
        "clf = DecisionTreeParallel()\n",
        "clf.fit(X_train, y_train)\n",
        "\n",
        "end = time.time()\n",
        "\n",
        "print(f'Processing time: {end - start} s')\n",
        "\n",
        "y_pred = clf.predict(X_test)\n",
        "acc_score = accuracy_score(y_test, y_pred)\n",
        "print(\"Accuracy score:\", acc_score)"
      ],
      "metadata": {
        "id": "vL4s6K8M_jcw",
        "colab": {
          "base_uri": "https://localhost:8080/"
        },
        "outputId": "be07a1a7-aa88-4cd6-b2c0-3155f0ef8f2f"
      },
      "id": "vL4s6K8M_jcw",
      "execution_count": 13,
      "outputs": [
        {
          "output_type": "stream",
          "name": "stdout",
          "text": [
            "Processing time: 3417.7405193195345 s\n",
            "Accuracy score: 0.876\n"
          ]
        }
      ]
    },
    {
      "cell_type": "markdown",
      "source": [
        "## Chạy song song phiên bản 2"
      ],
      "metadata": {
        "id": "s0q6ZcXx_Z84"
      },
      "id": "s0q6ZcXx_Z84"
    },
    {
      "cell_type": "code",
      "source": [
        "###"
      ],
      "metadata": {
        "id": "_9q-vuyfi4fq"
      },
      "id": "_9q-vuyfi4fq",
      "execution_count": 12,
      "outputs": []
    },
    {
      "cell_type": "markdown",
      "source": [
        "# Nhận xét\n",
        "\n",
        "| <font size=\"4\"> Phiên bản </font>|<font size=\"4\"> Thời gian </font>|\n",
        "|:-------------------:|-----------------------:|\n",
        "| <font size=\"4\"> Sequential (Tuần tự)</font> | <font size=\"4\"> ~ 90 m</font>  \n",
        "| <font size=\"4\"> Parallel 1 (Song song 1)</font> | <font size=\"4\"> ~ 57 m</font>|\n",
        "| <font size=\"4\"> Parallel 2 (Song song 2)</font> | <font size=\"4\"> ~ 0 m  </font> |\n",
        "\n",
        "\n",
        "- Ta đã có thể code tần tự một thuật toán học máy.\n",
        "- Đồng thời cũng có thể tăng tốc thuật toán đó bằng cách song song hóa một số bước tính toán."
      ],
      "metadata": {
        "id": "GDLKz-Kc-8jU"
      },
      "id": "GDLKz-Kc-8jU"
    },
    {
      "cell_type": "markdown",
      "source": [
        "# Nhìn lại quá trình làm đồ án"
      ],
      "metadata": {
        "id": "C5N7Cg0I_WHO"
      },
      "id": "C5N7Cg0I_WHO"
    }
  ],
  "metadata": {
    "kernelspec": {
      "display_name": "Python 3 (ipykernel)",
      "language": "python",
      "name": "python3"
    },
    "language_info": {
      "codemirror_mode": {
        "name": "ipython",
        "version": 3
      },
      "file_extension": ".py",
      "mimetype": "text/x-python",
      "name": "python",
      "nbconvert_exporter": "python",
      "pygments_lexer": "ipython3",
      "version": "3.9.6"
    },
    "colab": {
      "provenance": [],
      "gpuType": "T4"
    },
    "accelerator": "GPU",
    "gpuClass": "standard"
  },
  "nbformat": 4,
  "nbformat_minor": 5
}